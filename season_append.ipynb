{
 "cells": [
  {
   "cell_type": "code",
   "execution_count": 1,
   "metadata": {},
   "outputs": [],
   "source": [
    "import csv\n",
    "import pandas as pd\n",
    "import matplotlib.pyplot as plt\n",
    "import numpy as np\n",
    "import seaborn as sns\n",
    "from datetime import datetime"
   ]
  },
  {
   "cell_type": "code",
   "execution_count": 2,
   "metadata": {},
   "outputs": [
    {
     "name": "stdout",
     "output_type": "stream",
     "text": [
      "/Users/vihitakesiraju/Documents/Machine_Learning/ml\n"
     ]
    }
   ],
   "source": [
    "import os\n",
    "print(os.getcwd())"
   ]
  },
  {
   "cell_type": "code",
   "execution_count": 3,
   "metadata": {},
   "outputs": [],
   "source": [
    "df=pd.read_csv('FinalDataSet.csv')"
   ]
  },
  {
   "cell_type": "code",
   "execution_count": 4,
   "metadata": {},
   "outputs": [
    {
     "data": {
      "text/html": [
       "<div>\n",
       "<style scoped>\n",
       "    .dataframe tbody tr th:only-of-type {\n",
       "        vertical-align: middle;\n",
       "    }\n",
       "\n",
       "    .dataframe tbody tr th {\n",
       "        vertical-align: top;\n",
       "    }\n",
       "\n",
       "    .dataframe thead th {\n",
       "        text-align: right;\n",
       "    }\n",
       "</style>\n",
       "<table border=\"1\" class=\"dataframe\">\n",
       "  <thead>\n",
       "    <tr style=\"text-align: right;\">\n",
       "      <th></th>\n",
       "      <th>Date</th>\n",
       "      <th>CO</th>\n",
       "      <th>NO2</th>\n",
       "      <th>O3</th>\n",
       "      <th>Pb</th>\n",
       "      <th>PM10</th>\n",
       "      <th>SO2</th>\n",
       "      <th>Precip</th>\n",
       "      <th>Air max</th>\n",
       "      <th>min</th>\n",
       "      <th>Wind dir</th>\n",
       "      <th>speed</th>\n",
       "      <th>Solar</th>\n",
       "      <th>ETo</th>\n",
       "      <th>RH max</th>\n",
       "      <th>min.1</th>\n",
       "    </tr>\n",
       "  </thead>\n",
       "  <tbody>\n",
       "    <tr>\n",
       "      <td>0</td>\n",
       "      <td>06/02/1994</td>\n",
       "      <td>0.8</td>\n",
       "      <td>37.0</td>\n",
       "      <td>0.073</td>\n",
       "      <td>0.0298</td>\n",
       "      <td>258.0</td>\n",
       "      <td>3.0</td>\n",
       "      <td>0.0</td>\n",
       "      <td>106</td>\n",
       "      <td>63</td>\n",
       "      <td>S</td>\n",
       "      <td>5.0</td>\n",
       "      <td>747</td>\n",
       "      <td>0.32</td>\n",
       "      <td>75.0</td>\n",
       "      <td>7.1</td>\n",
       "    </tr>\n",
       "    <tr>\n",
       "      <td>1</td>\n",
       "      <td>06/03/1994</td>\n",
       "      <td>0.8</td>\n",
       "      <td>47.0</td>\n",
       "      <td>0.086</td>\n",
       "      <td>0.0159</td>\n",
       "      <td>76.0</td>\n",
       "      <td>8.0</td>\n",
       "      <td>0.0</td>\n",
       "      <td>104</td>\n",
       "      <td>61</td>\n",
       "      <td>SE</td>\n",
       "      <td>5.0</td>\n",
       "      <td>648</td>\n",
       "      <td>0.28</td>\n",
       "      <td>64.6</td>\n",
       "      <td>9.3</td>\n",
       "    </tr>\n",
       "    <tr>\n",
       "      <td>2</td>\n",
       "      <td>06/04/1994</td>\n",
       "      <td>1.4</td>\n",
       "      <td>37.0</td>\n",
       "      <td>0.061</td>\n",
       "      <td>0.0173</td>\n",
       "      <td>139.0</td>\n",
       "      <td>17.0</td>\n",
       "      <td>0.0</td>\n",
       "      <td>103</td>\n",
       "      <td>57</td>\n",
       "      <td>SE</td>\n",
       "      <td>5.0</td>\n",
       "      <td>752</td>\n",
       "      <td>0.31</td>\n",
       "      <td>73.6</td>\n",
       "      <td>12.9</td>\n",
       "    </tr>\n",
       "    <tr>\n",
       "      <td>3</td>\n",
       "      <td>06/05/1994</td>\n",
       "      <td>1.2</td>\n",
       "      <td>12.0</td>\n",
       "      <td>0.064</td>\n",
       "      <td>0.0381</td>\n",
       "      <td>128.0</td>\n",
       "      <td>10.0</td>\n",
       "      <td>0.0</td>\n",
       "      <td>101</td>\n",
       "      <td>58</td>\n",
       "      <td>W</td>\n",
       "      <td>7.0</td>\n",
       "      <td>777</td>\n",
       "      <td>0.37</td>\n",
       "      <td>64.9</td>\n",
       "      <td>9.1</td>\n",
       "    </tr>\n",
       "    <tr>\n",
       "      <td>4</td>\n",
       "      <td>06/06/1994</td>\n",
       "      <td>0.5</td>\n",
       "      <td>18.0</td>\n",
       "      <td>0.055</td>\n",
       "      <td>0.0101</td>\n",
       "      <td>148.0</td>\n",
       "      <td>6.0</td>\n",
       "      <td>0.0</td>\n",
       "      <td>99</td>\n",
       "      <td>56</td>\n",
       "      <td>W</td>\n",
       "      <td>6.0</td>\n",
       "      <td>747</td>\n",
       "      <td>0.34</td>\n",
       "      <td>50.0</td>\n",
       "      <td>11.9</td>\n",
       "    </tr>\n",
       "  </tbody>\n",
       "</table>\n",
       "</div>"
      ],
      "text/plain": [
       "         Date   CO   NO2     O3      Pb   PM10   SO2  Precip  Air max  min  \\\n",
       "0  06/02/1994  0.8  37.0  0.073  0.0298  258.0   3.0     0.0      106   63   \n",
       "1  06/03/1994  0.8  47.0  0.086  0.0159   76.0   8.0     0.0      104   61   \n",
       "2  06/04/1994  1.4  37.0  0.061  0.0173  139.0  17.0     0.0      103   57   \n",
       "3  06/05/1994  1.2  12.0  0.064  0.0381  128.0  10.0     0.0      101   58   \n",
       "4  06/06/1994  0.5  18.0  0.055  0.0101  148.0   6.0     0.0       99   56   \n",
       "\n",
       "  Wind dir  speed  Solar   ETo  RH max  min.1  \n",
       "0        S    5.0    747  0.32    75.0    7.1  \n",
       "1       SE    5.0    648  0.28    64.6    9.3  \n",
       "2       SE    5.0    752  0.31    73.6   12.9  \n",
       "3        W    7.0    777  0.37    64.9    9.1  \n",
       "4        W    6.0    747  0.34    50.0   11.9  "
      ]
     },
     "execution_count": 4,
     "metadata": {},
     "output_type": "execute_result"
    }
   ],
   "source": [
    "df.head()"
   ]
  },
  {
   "cell_type": "code",
   "execution_count": 5,
   "metadata": {},
   "outputs": [
    {
     "ename": "NameError",
     "evalue": "name 'wf' is not defined",
     "output_type": "error",
     "traceback": [
      "\u001b[0;31m---------------------------------------------------------------------------\u001b[0m",
      "\u001b[0;31mNameError\u001b[0m                                 Traceback (most recent call last)",
      "\u001b[0;32m<ipython-input-5-e6b02b9d1829>\u001b[0m in \u001b[0;36m<module>\u001b[0;34m\u001b[0m\n\u001b[1;32m      1\u001b[0m \u001b[0mdf\u001b[0m\u001b[0;34m[\u001b[0m\u001b[0;34m'Date'\u001b[0m\u001b[0;34m]\u001b[0m \u001b[0;34m=\u001b[0m\u001b[0mpd\u001b[0m\u001b[0;34m.\u001b[0m\u001b[0mto_datetime\u001b[0m\u001b[0;34m(\u001b[0m\u001b[0mdf\u001b[0m\u001b[0;34m.\u001b[0m\u001b[0mDate\u001b[0m\u001b[0;34m)\u001b[0m\u001b[0;34m\u001b[0m\u001b[0;34m\u001b[0m\u001b[0m\n\u001b[0;32m----> 2\u001b[0;31m \u001b[0mwf\u001b[0m\u001b[0;34m[\u001b[0m\u001b[0;34m'Date'\u001b[0m\u001b[0;34m]\u001b[0m \u001b[0;34m=\u001b[0m\u001b[0mpd\u001b[0m\u001b[0;34m.\u001b[0m\u001b[0mto_datetime\u001b[0m\u001b[0;34m(\u001b[0m\u001b[0mwf\u001b[0m\u001b[0;34m.\u001b[0m\u001b[0mDate\u001b[0m\u001b[0;34m)\u001b[0m\u001b[0;34m.\u001b[0m\u001b[0mdt\u001b[0m\u001b[0;34m.\u001b[0m\u001b[0mdate\u001b[0m\u001b[0;34m\u001b[0m\u001b[0;34m\u001b[0m\u001b[0m\n\u001b[0m\u001b[1;32m      3\u001b[0m \u001b[0mwf\u001b[0m\u001b[0;34m.\u001b[0m\u001b[0msort_values\u001b[0m\u001b[0;34m(\u001b[0m\u001b[0;34m'Date'\u001b[0m\u001b[0;34m,\u001b[0m\u001b[0mascending\u001b[0m\u001b[0;34m=\u001b[0m\u001b[0;32mTrue\u001b[0m\u001b[0;34m,\u001b[0m\u001b[0minplace\u001b[0m\u001b[0;34m=\u001b[0m\u001b[0;32mTrue\u001b[0m\u001b[0;34m)\u001b[0m\u001b[0;34m\u001b[0m\u001b[0;34m\u001b[0m\u001b[0m\n\u001b[1;32m      4\u001b[0m \u001b[0mwf\u001b[0m\u001b[0;34m.\u001b[0m\u001b[0mreindex\u001b[0m\u001b[0;34m(\u001b[0m\u001b[0;34m)\u001b[0m\u001b[0;34m\u001b[0m\u001b[0;34m\u001b[0m\u001b[0m\n\u001b[1;32m      5\u001b[0m \u001b[0mwf\u001b[0m\u001b[0;34m.\u001b[0m\u001b[0mhead\u001b[0m\u001b[0;34m(\u001b[0m\u001b[0;34m)\u001b[0m\u001b[0;34m\u001b[0m\u001b[0;34m\u001b[0m\u001b[0m\n",
      "\u001b[0;31mNameError\u001b[0m: name 'wf' is not defined"
     ]
    }
   ],
   "source": [
    "df['Date'] =pd.to_datetime(df.Date)\n",
    "wf['Date'] =pd.to_datetime(wf.Date).dt.date\n",
    "wf.sort_values('Date',ascending=True,inplace=True)\n",
    "wf.reindex()\n",
    "wf.head()"
   ]
  },
  {
   "cell_type": "code",
   "execution_count": 32,
   "metadata": {},
   "outputs": [],
   "source": [
    "df['month']= df['Date'].dt.month\n",
    "df['year']=df[]"
   ]
  },
  {
   "cell_type": "code",
   "execution_count": null,
   "metadata": {},
   "outputs": [],
   "source": []
  },
  {
   "cell_type": "code",
   "execution_count": 33,
   "metadata": {},
   "outputs": [
    {
     "name": "stdout",
     "output_type": "stream",
     "text": [
      "           Date   CO   NO2     O3      Pb   PM10   SO2  Precip  Air max  min  \\\n",
      "0    1994-06-02  0.8  37.0  0.073  0.0298  258.0   3.0     0.0      106   63   \n",
      "1    1994-06-03  0.8  47.0  0.086  0.0159   76.0   8.0     0.0      104   61   \n",
      "2    1994-06-04  1.4  37.0  0.061  0.0173  139.0  17.0     0.0      103   57   \n",
      "3    1994-06-05  1.2  12.0  0.064  0.0381  128.0  10.0     0.0      101   58   \n",
      "4    1994-06-06  0.5  18.0  0.055  0.0101  148.0   6.0     0.0       99   56   \n",
      "...         ...  ...   ...    ...     ...    ...   ...     ...      ...  ...   \n",
      "9860 2019-06-26  NaN  15.5    NaN     NaN    NaN   NaN     0.0       98   69   \n",
      "9861 2019-06-27  NaN  20.7    NaN     NaN    NaN   NaN     0.0      101   67   \n",
      "9862 2019-06-28  NaN  18.0    NaN     NaN    NaN   NaN     0.0      106   69   \n",
      "9863 2019-06-29  NaN   9.6    NaN     NaN    NaN   NaN     0.0      106   70   \n",
      "9864 2019-06-30  NaN   2.9    NaN     NaN    NaN   NaN     0.0      105   72   \n",
      "\n",
      "     Wind dir  speed  Solar   ETo  RH max  min.1  month  \n",
      "0           S    5.0    747  0.32    75.0    7.1      6  \n",
      "1          SE    5.0    648  0.28    64.6    9.3      6  \n",
      "2          SE    5.0    752  0.31    73.6   12.9      6  \n",
      "3           W    7.0    777  0.37    64.9    9.1      6  \n",
      "4           W    6.0    747  0.34    50.0   11.9      6  \n",
      "...       ...    ...    ...   ...     ...    ...    ...  \n",
      "9860        0    0.0    692  0.26    84.0   16.0      6  \n",
      "9861        0    0.0    725  0.30    76.0    0.0      6  \n",
      "9862      NaN    NaN    677   NaN     NaN    NaN      6  \n",
      "9863      NaN    NaN    659   NaN     NaN    NaN      6  \n",
      "9864        0    0.0    683  0.30    55.0   22.0      6  \n",
      "\n",
      "[9865 rows x 17 columns]\n"
     ]
    }
   ],
   "source": [
    "print(df)\n"
   ]
  },
  {
   "cell_type": "code",
   "execution_count": 34,
   "metadata": {
    "scrolled": true
   },
   "outputs": [
    {
     "name": "stdout",
     "output_type": "stream",
     "text": [
      "           Date   CO   NO2     O3      Pb   PM10   SO2  Precip  Air max  min  \\\n",
      "0    1994-06-02  0.8  37.0  0.073  0.0298  258.0   3.0     0.0      106   63   \n",
      "1    1994-06-03  0.8  47.0  0.086  0.0159   76.0   8.0     0.0      104   61   \n",
      "2    1994-06-04  1.4  37.0  0.061  0.0173  139.0  17.0     0.0      103   57   \n",
      "3    1994-06-05  1.2  12.0  0.064  0.0381  128.0  10.0     0.0      101   58   \n",
      "4    1994-06-06  0.5  18.0  0.055  0.0101  148.0   6.0     0.0       99   56   \n",
      "...         ...  ...   ...    ...     ...    ...   ...     ...      ...  ...   \n",
      "9860 2019-06-26  NaN  15.5    NaN     NaN    NaN   NaN     0.0       98   69   \n",
      "9861 2019-06-27  NaN  20.7    NaN     NaN    NaN   NaN     0.0      101   67   \n",
      "9862 2019-06-28  NaN  18.0    NaN     NaN    NaN   NaN     0.0      106   69   \n",
      "9863 2019-06-29  NaN   9.6    NaN     NaN    NaN   NaN     0.0      106   70   \n",
      "9864 2019-06-30  NaN   2.9    NaN     NaN    NaN   NaN     0.0      105   72   \n",
      "\n",
      "     Wind dir  speed  Solar   ETo  RH max  min.1  month  season  \n",
      "0           S    5.0    747  0.32    75.0    7.1      6       2  \n",
      "1          SE    5.0    648  0.28    64.6    9.3      6       2  \n",
      "2          SE    5.0    752  0.31    73.6   12.9      6       2  \n",
      "3           W    7.0    777  0.37    64.9    9.1      6       2  \n",
      "4           W    6.0    747  0.34    50.0   11.9      6       2  \n",
      "...       ...    ...    ...   ...     ...    ...    ...     ...  \n",
      "9860        0    0.0    692  0.26    84.0   16.0      6       2  \n",
      "9861        0    0.0    725  0.30    76.0    0.0      6       2  \n",
      "9862      NaN    NaN    677   NaN     NaN    NaN      6       2  \n",
      "9863      NaN    NaN    659   NaN     NaN    NaN      6       2  \n",
      "9864        0    0.0    683  0.30    55.0   22.0      6       2  \n",
      "\n",
      "[9865 rows x 18 columns]\n"
     ]
    }
   ],
   "source": [
    "def getSeason(x):\n",
    "    if x in range(1,4):\n",
    "        return 0\n",
    "    elif x in range(4,6):\n",
    "        return 1\n",
    "    elif x in range(6,9):\n",
    "        return 2\n",
    "    else:\n",
    "        return 3\n",
    "df['season']=df['month'].apply(lambda x:getSeason(x))\n",
    "print(df)"
   ]
  },
  {
   "cell_type": "code",
   "execution_count": 35,
   "metadata": {},
   "outputs": [],
   "source": [
    "df.to_csv(r'/Users/vihitakesiraju/Desktop/Finalseasondata.csv')"
   ]
  },
  {
   "cell_type": "code",
   "execution_count": null,
   "metadata": {},
   "outputs": [],
   "source": []
  }
 ],
 "metadata": {
  "kernelspec": {
   "display_name": "Python 3",
   "language": "python",
   "name": "python3"
  },
  "language_info": {
   "codemirror_mode": {
    "name": "ipython",
    "version": 3
   },
   "file_extension": ".py",
   "mimetype": "text/x-python",
   "name": "python",
   "nbconvert_exporter": "python",
   "pygments_lexer": "ipython3",
   "version": "3.7.3"
  }
 },
 "nbformat": 4,
 "nbformat_minor": 2
}
