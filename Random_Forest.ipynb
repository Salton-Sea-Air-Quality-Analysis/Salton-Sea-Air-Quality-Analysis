{
  "nbformat": 4,
  "nbformat_minor": 0,
  "metadata": {
    "colab": {
      "name": "Random Forest.ipynb",
      "provenance": [],
      "toc_visible": true
    },
    "kernelspec": {
      "name": "python3",
      "display_name": "Python 3"
    }
  },
  "cells": [
    {
      "cell_type": "code",
      "metadata": {
        "id": "iS5BNWrul5hS",
        "colab_type": "code",
        "colab": {}
      },
      "source": [
        "#Import all the libraries\n",
        "import pandas as pd\n",
        "import matplotlib.pyplot as plt\n",
        "from sklearn.model_selection import train_test_split\n",
        "from sklearn.metrics import roc_auc_score , classification_report, mean_squared_error, r2_score,accuracy_score\n",
        "from sklearn.model_selection import GridSearchCV\n",
        "from sklearn.ensemble import RandomForestRegressor\n",
        "import numpy as np"
      ],
      "execution_count": 0,
      "outputs": []
    },
    {
      "cell_type": "code",
      "metadata": {
        "id": "6sgVkGz2lkZ-",
        "colab_type": "code",
        "colab": {}
      },
      "source": [
        "#Import the dataset\n",
        "df = pd.read_csv(\"/content/drive/My Drive/Training Data -v3.csv\")"
      ],
      "execution_count": 0,
      "outputs": []
    },
    {
      "cell_type": "code",
      "metadata": {
        "id": "PSCjl-R8l-TI",
        "colab_type": "code",
        "colab": {}
      },
      "source": [
        "#Generating the correlation matrix and comparing the relation of each attribute with the AQI value\n",
        "corr_matrix = df.corr()\n",
        "corr_matrix['AQI'].sort_values(ascending=False)"
      ],
      "execution_count": 0,
      "outputs": []
    },
    {
      "cell_type": "code",
      "metadata": {
        "id": "JjYpvlf2gJPI",
        "colab_type": "code",
        "colab": {}
      },
      "source": [
        "#Scatter Plot for top 5 attributes\n",
        "df.plot(kind=\"scatter\",x = \"PM10\" , y = \"AQI\",alpha=0.1)\n",
        "df.plot(kind=\"scatter\",x = \"CO\" , y = \"AQI\",alpha=0.1)\n",
        "df.plot(kind=\"scatter\",x = \"Precip\" , y = \"AQI\",alpha=0.1)\n",
        "df.plot(kind=\"scatter\",x = \"PM2.5\" , y = \"AQI\",alpha=0.1)\n",
        "df.plot(kind=\"scatter\",x = \"Speed\" , y = \"AQI\",alpha=0.1)"
      ],
      "execution_count": 0,
      "outputs": []
    },
    {
      "cell_type": "code",
      "metadata": {
        "id": "D2TEHhTAq8BI",
        "colab_type": "code",
        "colab": {}
      },
      "source": [
        "#Separate Labels, Drop AQI and Date columns\n",
        "labels = df['AQI']\n",
        "df.drop(['AQI','Date'],axis=1,inplace=True)"
      ],
      "execution_count": 0,
      "outputs": []
    },
    {
      "cell_type": "code",
      "metadata": {
        "id": "LXPT9pithuqe",
        "colab_type": "code",
        "colab": {}
      },
      "source": [
        "#Splitting the dataset to 70:30 train-test ratio\n",
        "X_train,X_test,y_train,y_test = train_test_split(df,labels,test_size = 0.3,random_state = 42)"
      ],
      "execution_count": 0,
      "outputs": []
    },
    {
      "cell_type": "code",
      "metadata": {
        "id": "OzBowM6LpMW8",
        "colab_type": "code",
        "colab": {}
      },
      "source": [
        "#Fine Tuning the model using GridSearch to get the best possible hyperparameters\n",
        "param_grid = [{'n_estimators':[3,10,30,40],'max_features':[2,4,3,1,5]},\n",
        "              {'bootstrap':[False],'n_estimators': [3, 10], 'max_features': [2, 3, 4]}\n",
        "             ]\n",
        "forest_reg = RandomForestRegressor()\n",
        "gridSearch = GridSearchCV(forest_reg,param_grid,cv=5,scoring=\"neg_mean_squared_error\")\n",
        "gridSearch.fit(X_train,y_train)"
      ],
      "execution_count": 0,
      "outputs": []
    },
    {
      "cell_type": "code",
      "metadata": {
        "id": "vz_hf-XYpZv-",
        "colab_type": "code",
        "colab": {}
      },
      "source": [
        "#Final Training\n",
        "final_model = gridSearch.best_estimator_\n",
        "y_train_pred = final_model.predict(X_train)\n",
        "final_predictions = final_model.predict(X_test)\n",
        "final_mse = mean_squared_error(y_test, final_predictions)\n",
        "final_rmse = np.sqrt(final_mse)\n",
        "train_mse = mean_squared_error(y_train,y_train_pred)\n",
        "train_rmse = np.sqrt(train_mse)\n",
        "Train_Accuracy = r2_score(y_train,y_train_pred)\n",
        "Test_Accuracy = r2_score(y_test,final_predictions)"
      ],
      "execution_count": 0,
      "outputs": []
    },
    {
      "cell_type": "code",
      "metadata": {
        "id": "gN1aZc8-sMtC",
        "colab_type": "code",
        "colab": {}
      },
      "source": [
        "#Print the RMSE and Accuracy Values\n",
        "print(\"RMSE Train:\",np.round(train_rmse,2))\n",
        "print(\"RMSE Test:\",np.round(final_rmse,2))\n",
        "print(\"Train Accuracy:\",np.round(Train_Accuracy * 100,2))\n",
        "print(\"Test Accuracy:\",np.round(Test_Accuracy * 100,2))"
      ],
      "execution_count": 0,
      "outputs": []
    }
  ]
}