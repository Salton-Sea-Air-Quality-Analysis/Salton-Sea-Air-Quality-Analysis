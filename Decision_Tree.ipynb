{
  "nbformat": 4,
  "nbformat_minor": 0,
  "metadata": {
    "colab": {
      "name": "Decision Tree.ipynb",
      "provenance": []
    },
    "kernelspec": {
      "name": "python3",
      "display_name": "Python 3"
    }
  },
  "cells": [
    {
      "cell_type": "code",
      "metadata": {
        "colab_type": "code",
        "id": "c-n1CffxpNjp",
        "colab": {}
      },
      "source": [
        "#Import all the libraries\n",
        "import pandas as pd\n",
        "import matplotlib.pyplot as plt\n",
        "from sklearn.model_selection import train_test_split\n",
        "from sklearn.metrics import roc_auc_score , classification_report, mean_squared_error, r2_score,accuracy_score\n",
        "from sklearn.model_selection import GridSearchCV\n",
        "from sklearn.tree import DecisionTreeRegressor\n",
        "import numpy as np"
      ],
      "execution_count": 0,
      "outputs": []
    },
    {
      "cell_type": "code",
      "metadata": {
        "colab_type": "code",
        "id": "gWiwppf2pNju",
        "colab": {}
      },
      "source": [
        "#Import the dataset\n",
        "df = pd.read_csv(\"/content/drive/My Drive/Training Data -v3.csv\")"
      ],
      "execution_count": 0,
      "outputs": []
    },
    {
      "cell_type": "code",
      "metadata": {
        "colab_type": "code",
        "id": "zjN9OZHQpNjy",
        "colab": {}
      },
      "source": [
        "#Generating the correlation matrix and comparing the relation of each attribute with the AQI value\n",
        "corr_matrix = df.corr()\n",
        "corr_matrix['AQI'].sort_values(ascending=False)"
      ],
      "execution_count": 0,
      "outputs": []
    },
    {
      "cell_type": "code",
      "metadata": {
        "colab_type": "code",
        "id": "CwxpMbkOpNj1",
        "colab": {}
      },
      "source": [
        "#Scatter Plot for top 5 attributes\n",
        "df.plot(kind=\"scatter\",x = \"PM10\" , y = \"AQI\",alpha=0.1)\n",
        "df.plot(kind=\"scatter\",x = \"CO\" , y = \"AQI\",alpha=0.1)\n",
        "df.plot(kind=\"scatter\",x = \"Precip\" , y = \"AQI\",alpha=0.1)\n",
        "df.plot(kind=\"scatter\",x = \"PM2.5\" , y = \"AQI\",alpha=0.1)\n",
        "df.plot(kind=\"scatter\",x = \"Speed\" , y = \"AQI\",alpha=0.1)"
      ],
      "execution_count": 0,
      "outputs": []
    },
    {
      "cell_type": "code",
      "metadata": {
        "colab_type": "code",
        "id": "401b6oLkpNj4",
        "colab": {}
      },
      "source": [
        "#Separate Labels, Drop AQI and Date columns\n",
        "labels = df['AQI']\n",
        "df.drop(['AQI','Date'],axis=1,inplace=True)"
      ],
      "execution_count": 0,
      "outputs": []
    },
    {
      "cell_type": "code",
      "metadata": {
        "colab_type": "code",
        "id": "T15ZY07CpNj8",
        "colab": {}
      },
      "source": [
        "#Splitting the dataset to 70:30 train-test ratio\n",
        "X_train,X_test,y_train,y_test = train_test_split(df,labels,test_size = 0.3,random_state = 42)"
      ],
      "execution_count": 0,
      "outputs": []
    },
    {
      "cell_type": "code",
      "metadata": {
        "colab_type": "code",
        "id": "dsbvEamkpNkA",
        "colab": {
          "base_uri": "https://localhost:8080/",
          "height": 289
        },
        "outputId": "cc6a0e18-900c-48e1-b9bc-dfd80e9e7df1"
      },
      "source": [
        "#Fine Tuning the model using GridSearch to get the best possible hyperparameters\n",
        "param_grid = { \"max_depth\": np.arange(3, 15),\"max_features\":[1,3,5,10]}\n",
        "tree = DecisionTreeRegressor()\n",
        "gridSearch = GridSearchCV(tree,param_grid,cv=5,scoring=\"neg_mean_squared_error\")\n",
        "gridSearch.fit(X_train,y_train)"
      ],
      "execution_count": 11,
      "outputs": [
        {
          "output_type": "execute_result",
          "data": {
            "text/plain": [
              "GridSearchCV(cv=5, error_score='raise-deprecating',\n",
              "             estimator=DecisionTreeRegressor(criterion='mse', max_depth=None,\n",
              "                                             max_features=None,\n",
              "                                             max_leaf_nodes=None,\n",
              "                                             min_impurity_decrease=0.0,\n",
              "                                             min_impurity_split=None,\n",
              "                                             min_samples_leaf=1,\n",
              "                                             min_samples_split=2,\n",
              "                                             min_weight_fraction_leaf=0.0,\n",
              "                                             presort=False, random_state=None,\n",
              "                                             splitter='best'),\n",
              "             iid='warn', n_jobs=None,\n",
              "             param_grid={'max_depth': array([ 3,  4,  5,  6,  7,  8,  9, 10, 11, 12, 13, 14]),\n",
              "                         'max_features': [1, 3, 5, 10]},\n",
              "             pre_dispatch='2*n_jobs', refit=True, return_train_score=False,\n",
              "             scoring='neg_mean_squared_error', verbose=0)"
            ]
          },
          "metadata": {
            "tags": []
          },
          "execution_count": 11
        }
      ]
    },
    {
      "cell_type": "code",
      "metadata": {
        "colab_type": "code",
        "id": "N9-ZDgdHpNkC",
        "colab": {}
      },
      "source": [
        "#Final Training\n",
        "final_model = gridSearch.best_estimator_\n",
        "y_train_pred = final_model.predict(X_train)\n",
        "final_predictions = final_model.predict(X_test)\n",
        "final_mse = mean_squared_error(y_test, final_predictions)\n",
        "final_rmse = np.sqrt(final_mse)\n",
        "train_mse = mean_squared_error(y_train,y_train_pred)\n",
        "train_rmse = np.sqrt(train_mse)\n",
        "Train_Accuracy = r2_score(y_train,y_train_pred)\n",
        "Test_Accuracy = r2_score(y_test,final_predictions)"
      ],
      "execution_count": 0,
      "outputs": []
    },
    {
      "cell_type": "code",
      "metadata": {
        "colab_type": "code",
        "id": "Ez0MxE50pNkF",
        "colab": {
          "base_uri": "https://localhost:8080/",
          "height": 85
        },
        "outputId": "45839723-1565-4a88-a48e-0ac3fb02fcc4"
      },
      "source": [
        "#Print the RMSE and Accuracy Values\n",
        "print(\"RMSE Train:\",np.round(train_rmse,2))\n",
        "print(\"RMSE Test:\",np.round(final_rmse,2))\n",
        "print(\"Train Accuracy:\",np.round(Train_Accuracy * 100,2))\n",
        "print(\"Test Accuracy:\",np.round(Test_Accuracy * 100,2))"
      ],
      "execution_count": 13,
      "outputs": [
        {
          "output_type": "stream",
          "text": [
            "RMSE Train: 4.54\n",
            "RMSE Test: 8.37\n",
            "Train Accuracy: 99.87\n",
            "Test Accuracy: 99.53\n"
          ],
          "name": "stdout"
        }
      ]
    },
    {
      "cell_type": "code",
      "metadata": {
        "id": "dHqczYWltNbf",
        "colab_type": "code",
        "colab": {}
      },
      "source": [
        ""
      ],
      "execution_count": 0,
      "outputs": []
    }
  ]
}