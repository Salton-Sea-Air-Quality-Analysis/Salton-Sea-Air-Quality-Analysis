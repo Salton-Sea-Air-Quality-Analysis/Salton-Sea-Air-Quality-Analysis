{
  "nbformat": 4,
  "nbformat_minor": 0,
  "metadata": {
    "colab": {
      "name": "CategoricalData.ipynb",
      "provenance": []
    },
    "kernelspec": {
      "name": "python3",
      "display_name": "Python 3"
    }
  },
  "cells": [
    {
      "cell_type": "code",
      "metadata": {
        "id": "yMDXXiIGV8P3",
        "colab_type": "code",
        "colab": {}
      },
      "source": [
        "#Performing a mapping for the Categorical Attribute WindDir as follows:\n",
        "# 0:0, N:1,E:2,S:3,W:4,NE:5,SE:6,NW:7,SW:8\n",
        "import pandas as pd\n",
        "df = pd.read_csv(\"/content/drive/My Drive/Training Data.csv\")\n",
        "df['WindDir'] = df['WindDir'].map({'0':0,'N':1,'E':2,'S':3,'W':4,'NE':5,'SE':6,'NW':7,'SW':8})\n",
        "df['WindDir'].fillna(0,inplace=True)"
      ],
      "execution_count": 0,
      "outputs": []
    },
    {
      "cell_type": "code",
      "metadata": {
        "id": "bowFyitmb5Ep",
        "colab_type": "code",
        "colab": {}
      },
      "source": [
        "df.WindDir.unique()"
      ],
      "execution_count": 0,
      "outputs": []
    },
    {
      "cell_type": "code",
      "metadata": {
        "id": "wAEPseA4YZnC",
        "colab_type": "code",
        "colab": {}
      },
      "source": [
        "#Writing to a new csv file\n",
        "df.to_csv(\"/content/drive/My Drive/Training Data -v3.csv\",index=False)"
      ],
      "execution_count": 0,
      "outputs": []
    }
  ]
}