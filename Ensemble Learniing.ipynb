{
  "nbformat": 4,
  "nbformat_minor": 0,
  "metadata": {
    "colab": {
      "name": "Untitled3.ipynb",
      "provenance": []
    },
    "kernelspec": {
      "name": "python3",
      "display_name": "Python 3"
    }
  },
  "cells": [
    {
      "cell_type": "code",
      "metadata": {
        "id": "oBXup0B34QeX",
        "colab_type": "code",
        "colab": {}
      },
      "source": [
        "import pandas as pd\n",
        "from sklearn.ensemble import RandomForestRegressor, VotingRegressor\n",
        "from sklearn.tree import DecisionTreeRegressor\n",
        "from sklearn.svm import SVR\n",
        "from sklearn.neural_network import MLPRegressor\n",
        "from sklearn.model_selection import train_test_split\n",
        "from sklearn.metrics import r2_score, mean_squared_error\n",
        "import numpy as np"
      ],
      "execution_count": 0,
      "outputs": []
    },
    {
      "cell_type": "code",
      "metadata": {
        "id": "aQPfHVR_4XW1",
        "colab_type": "code",
        "colab": {}
      },
      "source": [
        "df = pd.read_csv(\"/content/drive/My Drive/Training Data -v3.csv\")"
      ],
      "execution_count": 0,
      "outputs": []
    },
    {
      "cell_type": "code",
      "metadata": {
        "id": "RwUqZ7dC8oVq",
        "colab_type": "code",
        "colab": {}
      },
      "source": [
        "labels = df['AQI']\n",
        "df.drop(['AQI','Date'],axis=1,inplace=True)"
      ],
      "execution_count": 0,
      "outputs": []
    },
    {
      "cell_type": "code",
      "metadata": {
        "id": "BYHSdkRU96HN",
        "colab_type": "code",
        "colab": {}
      },
      "source": [
        "X_train,X_test,y_train,y_test = train_test_split(df,labels,test_size = 0.3,random_state = 42)"
      ],
      "execution_count": 0,
      "outputs": []
    },
    {
      "cell_type": "code",
      "metadata": {
        "id": "cCXqdIUe6U38",
        "colab_type": "code",
        "colab": {}
      },
      "source": [
        "from sklearn.ensemble import RandomForestRegressor, VotingRegressor\n",
        "rf = RandomForestRegressor(random_state = 1, n_estimators = 10)\n",
        "dt = DecisionTreeRegressor()\n",
        "svm = SVR(kernel='rbf',C=15000.0,gamma='scale')\n",
        "mlp = MLPRegressor(activation='relu',alpha=0.001)\n",
        "ereg = VotingRegressor(estimators=[('rf',rf),('dt',dt),('svm',svm),('mlp',mlp)])\n",
        "ereg.fit(X_train,y_train)"
      ],
      "execution_count": 0,
      "outputs": []
    },
    {
      "cell_type": "code",
      "metadata": {
        "id": "iAnirzUfAzbe",
        "colab_type": "code",
        "colab": {}
      },
      "source": [
        "y_test_predict = ereg.predict(X_test)\n",
        "y_train_predict = ereg.predict(X_train)\n",
        "train_mse = np.sqrt(mean_squared_error(y_train,y_train_predict))\n",
        "test_mse = np.sqrt(mean_squared_error(y_test,y_test_predict))\n",
        "train_acc = r2_score(y_train_predict,y_train)\n",
        "test_acc = r2_score(y_test_predict,y_test)"
      ],
      "execution_count": 0,
      "outputs": []
    },
    {
      "cell_type": "code",
      "metadata": {
        "id": "hwNTTtNcEzOw",
        "colab_type": "code",
        "outputId": "c8b9f1fc-a168-4a7a-f9a5-09f029f494af",
        "colab": {
          "base_uri": "https://localhost:8080/",
          "height": 85
        }
      },
      "source": [
        "print(\"Train RMSE:\",train_mse)\n",
        "print(\"Test RMSE:\",test_mse)\n",
        "print(\"Train Accuracy:\",train_acc)\n",
        "print(\"Test Accuracy:\",test_acc)"
      ],
      "execution_count": 0,
      "outputs": [
        {
          "output_type": "stream",
          "text": [
            "Train RMSE: 6.729999489274746\n",
            "Test RMSE: 8.385839011068638\n",
            "Train Accuracy: 0.9970439719046099\n",
            "Test Accuracy: 0.9952904854894844\n"
          ],
          "name": "stdout"
        }
      ]
    },
    {
      "cell_type": "code",
      "metadata": {
        "id": "Je8uWnCrFW2R",
        "colab_type": "code",
        "colab": {}
      },
      "source": [
        ""
      ],
      "execution_count": 0,
      "outputs": []
    }
  ]
}